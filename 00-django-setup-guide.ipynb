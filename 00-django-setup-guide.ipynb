{
 "cells": [
  {
   "cell_type": "markdown",
   "id": "b5f6949a",
   "metadata": {},
   "source": [
    "# Introdução ao Django: Python \n",
    "\n",
    "[Aprenda Python com Jupyter](https://github.com/jeanto/python_django_course_notebook) by [Jean Nunes](https://jeanto.github.io/jeannunes)   \n",
    "Code license: [GNU-GPL v3](https://www.gnu.org/licenses/gpl-3.0.en.html)\n",
    "\n",
    "---"
   ]
  },
  {
   "cell_type": "markdown",
   "id": "09779011",
   "metadata": {},
   "source": [
    "## O que é o Django?\n",
    "\n",
    "Django é um *framework* de desenvolvimento web de alto nível, escrito em Python, que incentiva o desenvolvimento rápido e o design limpo e pragmático. Criado para facilitar a criação de aplicações web robustas e escaláveis, o Django é amplamente utilizado por desenvolvedores ao redor do mundo.\n",
    "\n",
    "### Características do Django\n",
    "\n",
    "- **Rápido**: O Django foi projetado para ajudar os desenvolvedores a levar aplicações do conceito à produção o mais rápido possível.\n",
    "- **Seguro**: Inclui recursos integrados para proteger aplicações contra vulnerabilidades comuns, como injeção de SQL, cross-site scripting (XSS) e cross-site request forgery (CSRF).\n",
    "- **Escalável**: Projetado para lidar com as demandas de aplicações de grande escala, o Django é usado por empresas como Instagram, Pinterest e Spotify.\n",
    "- **Versátil**: Pode ser usado para criar desde sites simples até sistemas complexos de gerenciamento de conteúdo, APIs RESTful e aplicações de e-commerce.\n",
    "\n",
    "### Principais Recursos do Django\n",
    "\n",
    "- **ORM (Object-Relational Mapping)**: Permite interagir com bancos de dados usando objetos Python, eliminando a necessidade de escrever SQL manualmente.\n",
    "- **Administração Automática**: Gera automaticamente uma interface administrativa para gerenciar os dados do projeto.\n",
    "- **Sistema de Templates**: Facilita a criação de interfaces dinâmicas e reutilizáveis.\n",
    "- **URLs Elegantes**: Oferece um sistema de roteamento de URLs limpo e intuitivo.\n",
    "- **Autenticação e Autorização**: Inclui um sistema robusto de autenticação de usuários e controle de permissões.\n",
    "- **Internacionalização**: Suporte integrado para tradução e localização de aplicações.\n",
    "- **Comunidade Ativa**: Uma grande comunidade de desenvolvedores contribui para a evolução do Django, além de oferecer suporte e recursos.\n",
    "\n",
    "---"
   ]
  },
  {
   "cell_type": "markdown",
   "metadata": {},
   "source": [
    "# Guia para Configuração e Uso do Django\n",
    "\n",
    "Este notebook explica como configurar e usar um projeto Django, desde o download do repositório até a execução do servidor local."
   ]
  },
  {
   "cell_type": "markdown",
   "metadata": {},
   "source": [
    "## 1. Clonando o Repositório do Git\n",
    "\n",
    "Primeiro, faça o download do projeto Django do repositório Git. Use o comando abaixo no terminal:\n",
    "```bash\n",
    "git clone <URL_DO_REPOSITORIO>\n",
    "```\n",
    "Substitua `<URL_DO_REPOSITORIO>` pela URL do repositório Git que você deseja clonar."
   ]
  },
  {
   "cell_type": "markdown",
   "metadata": {},
   "source": [
    "## 2. Criando e Ativando um Ambiente Virtual\n",
    "\n",
    "É recomendado usar um ambiente virtual para isolar as dependências do projeto. Siga os passos abaixo:\n",
    "\n",
    "### Criar o ambiente virtual:\n",
    "```bash\n",
    "pip install virtualenv\n",
    "```\n",
    "\n",
    "```bash\n",
    "python -m virtualenv venv\n",
    "```\n",
    "\n",
    "### Ativar o ambiente virtual:\n",
    "- **Windows**:\n",
    "```bash\n",
    ".venv\\Scripts\\activate\n",
    "```\n",
    "- **Linux/Mac**:\n",
    "```bash\n",
    "source venv/bin/activate\n",
    "```"
   ]
  },
  {
   "cell_type": "markdown",
   "metadata": {},
   "source": [
    "## 3. Instalando o Django e Dependências\n",
    "\n",
    "Certifique-se de estar no diretório do projeto e com o ambiente virtual ativado. Instale as dependências do projeto usando o arquivo `requirements.txt`:\n",
    "```bash\n",
    "pip install -r requirements.txt\n",
    "```\n",
    "Se o arquivo `requirements.txt` não existir, você pode instalar o Django manualmente:\n",
    "```bash\n",
    "pip install django\n",
    "```"
   ]
  },
  {
   "cell_type": "markdown",
   "metadata": {},
   "source": [
    "## 4. Aplicando Migrações do Banco de Dados\n",
    "\n",
    "Depois de configurar o projeto, aplique as migrações para configurar o banco de dados:\n",
    "```bash\n",
    "python manage.py migrate\n",
    "```"
   ]
  },
  {
   "cell_type": "markdown",
   "metadata": {},
   "source": [
    "## 5. Executando o Servidor de Desenvolvimento\n",
    "\n",
    "Por fim, execute o servidor local para testar o projeto:\n",
    "```bash\n",
    "python manage.py runserver\n",
    "```\n",
    "O servidor estará disponível em [http://127.0.0.1:8000/](http://127.0.0.1:8000/).\n",
    "\n",
    "---"
   ]
  },
  {
   "cell_type": "markdown",
   "id": "94022f03",
   "metadata": {},
   "source": [
    "# Criando dados"
   ]
  },
  {
   "cell_type": "markdown",
   "id": "e0d4a913",
   "metadata": {},
   "source": [
    "\n",
    "### 1. Abra o shell do Django\n",
    "\n",
    "```bash\n",
    "python manage.py shell\n",
    "```\n",
    "\n",
    "### 2. Importe o modelo `Doador`\n",
    "\n",
    "```python\n",
    "from sndot.models import Doador\n",
    "```\n",
    "\n",
    "### 3. Crie um novo doador\n",
    "\n",
    "Preencha os campos obrigatórios conforme o modelo `Doador`:\n",
    "\n",
    "```python\n",
    "doador = Doador.objects.create(\n",
    "    nome=\"Lara Croft\",\n",
    "    cpf=\"12345678901\",\n",
    "    idade=30,\n",
    "    sexo=\"F\",\n",
    "    data_nascimento=\"1995-05-15\",\n",
    "    cidade_natal=\"Belo Horizonte\",\n",
    "    estado_natal=\"MG\",\n",
    "    profissao=\"Engenheira\",\n",
    "    cidade_residencia=\"São Paulo\",\n",
    "    estado_residencia=\"SP\",\n",
    "    estado_civil=\"Solteira\",\n",
    "    contato_emergencia=\"(31) 99999-9999\",\n",
    "    tipo_sanguineo=\"O+\"\n",
    ")\n",
    "\n",
    "doador.save()\n",
    "```\n",
    "\n",
    "### 4. Verifique se foi criado corretamente\n",
    "\n",
    "```python\n",
    "print(doador)\n",
    "\n",
    "Doador.objects.all()\n",
    "```\n",
    "\n",
    "### 5. Instale a extenção `SQLite Viewer`\n",
    "\n",
    "Pronto! O doador foi inserido manualmente no banco de dados.\n",
    "\n",
    "---"
   ]
  },
  {
   "cell_type": "markdown",
   "id": "6223038d",
   "metadata": {},
   "source": [
    "# Listando e importando dados\n",
    "\n",
    "### `listar_doadores.html`\n",
    "\n",
    "### `importar_doadores.html`\n",
    "\n",
    "---"
   ]
  },
  {
   "cell_type": "markdown",
   "id": "c85d5b16",
   "metadata": {},
   "source": [
    "# Outras Configurações"
   ]
  },
  {
   "cell_type": "markdown",
   "id": "920e844a",
   "metadata": {},
   "source": [
    "É importante adicionar `'sndot.apps.SndotConfig'` na lista `INSTALLED_APPS` do arquivo `settings.py` porque:\n",
    "\n",
    "- **Registro do app:** O Django só reconhece e gerencia os modelos, views, admin e outras configurações do seu app se ele estiver listado em `INSTALLED_APPS`.\n",
    "- **Migrações:** Só assim o Django aplica as migrações dos modelos do app ao banco de dados.\n",
    "- **Administração:** Permite que o `app` apareça no painel administrativo do Django.\n",
    "- **Configurações customizadas:** Usando o caminho para a classe `AppConfig` (ex: `sndot.apps.SndotConfig`), você pode definir configurações específicas para o app, como sinais ou inicializações personalizadas.\n",
    "\n",
    "Sem isso, o Django ignora completamente o `app` e seus modelos."
   ]
  },
  {
   "cell_type": "markdown",
   "metadata": {},
   "source": [
    "## Conclusão\n",
    "\n",
    "Consulte a [documentação oficial do Django](https://docs.djangoproject.com/) para mais detalhes."
   ]
  }
 ],
 "metadata": {
  "kernelspec": {
   "display_name": "Python 3",
   "language": "python",
   "name": "python3"
  },
  "language_info": {
   "codemirror_mode": {
    "name": "ipython",
    "version": 3
   },
   "file_extension": ".py",
   "mimetype": "text/x-python",
   "name": "python",
   "nbconvert_exporter": "python",
   "pygments_lexer": "ipython3",
   "version": "3.8.10"
  }
 },
 "nbformat": 4,
 "nbformat_minor": 5
}
