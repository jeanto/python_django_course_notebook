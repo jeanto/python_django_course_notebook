{
 "cells": [
  {
   "cell_type": "markdown",
   "id": "b5f6949a",
   "metadata": {},
   "source": [
    "# Introdução ao Django: Python \n",
    "\n",
    "[Aprenda Python com Jupyter](https://github.com/jeanto/python_django_course_notebook) by [Jean Nunes](https://jeanto.github.io/jeannunes)   \n",
    "Code license: [GNU-GPL v3](https://www.gnu.org/licenses/gpl-3.0.en.html)\n",
    "\n",
    "---"
   ]
  },
  {
   "cell_type": "markdown",
   "id": "54a86c77",
   "metadata": {},
   "source": [
    "# Django Admin\n",
    "\n",
    "O Django Admin é uma ferramenta integrada e poderosa do framework web Django. É uma interface de administração que permite gerenciar o conteúdo de uma aplicação web de forma rápida e eficiente, especialmente para utilizadores internos que precisam manipular dados do banco de dados. É essencialmente uma interface de usuário CRUD (Create, Read, Update, Delete) para os modelos do Django, fornecendo uma forma intuitiva de criar, ler, atualizar e apagar dados. \n",
    "\n",
    "## 1. Ativando o Django Admin\n",
    "\n",
    "O Django Admin já vem ativado por padrão se você tiver `'django.contrib.admin'` em `INSTALLED_APPS` (veja seu `settings.py`).\n",
    "\n",
    "Certifique-se também de ter rodado as migrações:\n",
    "\n",
    "```bash\n",
    "python manage.py migrate\n",
    "```\n",
    "\n",
    "## 2. Criando um Superusuário\n",
    "\n",
    "O superusuário é um usuário com acesso total ao painel administrativo.\n",
    "\n",
    "```bash\n",
    "python manage.py createsuperuser\n",
    "```\n",
    "\n",
    "Siga as instruções e preencha nome de usuário, email e senha.\n",
    "\n",
    "## 3. Registrando o Modelo Doador no Admin\n",
    "\n",
    "Abra o arquivo admin.py e registre o modelo `Doador`:\n",
    "\n",
    "````python\n",
    "from django.contrib import admin\n",
    "from .models import Doador\n",
    "\n",
    "@admin.register(Doador)\n",
    "class DoadorAdmin(admin.ModelAdmin):\n",
    "    list_display = ('nome', 'cpf', 'idade', 'tipo_sanguineo')\n",
    "    search_fields = ('nome', 'cpf')\n",
    "````\n",
    "\n",
    "Isso permite visualizar, buscar e gerenciar doadores no admin.\n",
    "\n",
    "## 4. Acessando o Painel Admin\n",
    "\n",
    "Inicie o servidor:\n",
    "\n",
    "```bash\n",
    "python manage.py runserver\n",
    "```\n",
    "\n",
    "Acesse [http://127.0.0.1:8000/admin/](http://127.0.0.1:8000/admin/) e faça login com o superusuário criado.\n",
    "\n",
    "## 5. Incluindo e Gerenciando Doadores\n",
    "\n",
    "- No painel admin, clique em **Doadores**.\n",
    "- Você pode adicionar, editar, buscar e excluir doadores facilmente pela interface.\n",
    "\n",
    "### Exemplo de configuração:\n",
    "\n",
    "```python\n",
    "class DoadorAdmin(admin.ModelAdmin):\n",
    "    list_display = ('nome', 'cpf', 'idade', 'tipo_sanguineo')\n",
    "    list_display_links = ('nome',)\n",
    "    search_fields = ('nome', 'cpf')\n",
    "    list_filter = ('tipo_sanguineo',)\n",
    "    list_per_page = 10\n",
    "    ordering = ('nome',)\n",
    "```\n",
    "\n",
    "- `list_display`: Uma tupla ou lista de nomes de campos do modelo a serem exibidos na página de listagem de objetos.\n",
    "\n",
    "- `list_filter`: Uma tupla ou lista de nomes de campos que serão usados para criar filtros na barra lateral da página de listagem. Isso permite aos usuários filtrar os objetos com base nesses campos.\n",
    "\n",
    "- `search_fields`: Uma tupla ou lista de nomes de campos que serão incluídos na barra de pesquisa na parte superior da página de listagem. Os usuários podem digitar termos de pesquisa e o Django filtrará os objetos que correspondem a esses termos nesses campos.\n",
    "\n",
    "- `ordering`: Uma lista ou tupla de nomes de campos a serem usados para ordenar a listagem de objetos. Adicionar um sinal de menos (-) antes do nome do campo indica ordenação decrescente.\n",
    "\n",
    "- `list_per_page`: Um inteiro que especifica o número de objetos a serem exibidos por página na listagem. A paginação será adicionada automaticamente se o número de objetos exceder esse valor.\n",
    "\n",
    "- `list_display_links`: Uma tupla ou lista de nomes de campos na `list_display` que serão transformados em links para a página de edição do objeto. Por padrão, o primeiro campo em `list_display` é um link.\n",
    "\n",
    "## Conceitos Importantes\n",
    "\n",
    "- **Admin Site:** Interface pronta para gerenciar dados dos modelos.\n",
    "- **Permissões:** Usuários comuns podem ter permissões limitadas (adicione pelo admin).\n",
    "- **Customização:** Você pode customizar a exibição dos modelos usando classes `ModelAdmin` (como mostrado acima).\n",
    "- **Segurança:** Nunca use o superusuário em produção para tarefas comuns.\n",
    "\n",
    "Pronto! Agora você pode gerenciar a tabela **Doador** pelo Django Admin.\n",
    "\n",
    "---"
   ]
  },
  {
   "cell_type": "code",
   "execution_count": null,
   "id": "f20438fc",
   "metadata": {
    "vscode": {
     "languageId": "plaintext"
    }
   },
   "outputs": [],
   "source": []
  },
  {
   "cell_type": "markdown",
   "metadata": {},
   "source": [
    "## Conclusão\n",
    "\n",
    "Consulte a [documentação oficial do Django Admin](https://docs.djangoproject.com/pt-br/5.2/ref/contrib/admin/) para mais opções de customização."
   ]
  }
 ],
 "metadata": {
  "kernelspec": {
   "display_name": "Python 3",
   "language": "python",
   "name": "python3"
  },
  "language_info": {
   "codemirror_mode": {
    "name": "ipython",
    "version": 3
   },
   "file_extension": ".py",
   "mimetype": "text/x-python",
   "name": "python",
   "nbconvert_exporter": "python",
   "pygments_lexer": "ipython3",
   "version": "3.8.10"
  }
 },
 "nbformat": 4,
 "nbformat_minor": 5
}
