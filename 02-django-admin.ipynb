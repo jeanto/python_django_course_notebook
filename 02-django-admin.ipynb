{
 "cells": [
  {
   "cell_type": "markdown",
   "id": "b5f6949a",
   "metadata": {},
   "source": [
    "# Introdução ao Django: Python \n",
    "\n",
    "[Aprenda Python com Jupyter](https://github.com/jeanto/python_django_course_notebook) by [Jean Nunes](https://jeanto.github.io/jeannunes)   \n",
    "Code license: [GNU-GPL v3](https://www.gnu.org/licenses/gpl-3.0.en.html)\n",
    "\n",
    "---"
   ]
  },
  {
   "cell_type": "markdown",
   "id": "54a86c77",
   "metadata": {},
   "source": [
    "# Django Admin\n",
    "\n",
    "O Django Admin é uma ferramenta integrada e poderosa do framework web Django. É uma interface de administração que permite gerenciar o conteúdo de uma aplicação web de forma rápida e eficiente, especialmente para utilizadores internos que precisam manipular dados do banco de dados. É essencialmente uma interface de usuário CRUD (Create, Read, Update, Delete) para os modelos do Django, fornecendo uma forma intuitiva de criar, ler, atualizar e apagar dados. \n",
    "\n",
    "## 1. Ativando o Django Admin\n",
    "\n",
    "O Django Admin já vem ativado por padrão se você tiver `'django.contrib.admin'` em `INSTALLED_APPS` (veja seu `settings.py`).\n",
    "\n",
    "Certifique-se também de ter rodado as migrações:\n",
    "\n",
    "```bash\n",
    "python manage.py migrate\n",
    "```\n",
    "\n",
    "## 2. Criando um Superusuário\n",
    "\n",
    "O superusuário é um usuário com acesso total ao painel administrativo.\n",
    "\n",
    "```bash\n",
    "python manage.py createsuperuser\n",
    "```\n",
    "\n",
    "Siga as instruções e preencha nome de usuário, email e senha.\n",
    "\n",
    "## 3. Registrando o Modelo Doador no Admin\n",
    "\n",
    "Abra o arquivo admin.py e registre o modelo `Doador`:\n",
    "\n",
    "````python\n",
    "from django.contrib import admin\n",
    "from .models import Doador\n",
    "\n",
    "@admin.register(Doador)\n",
    "class DoadorAdmin(admin.ModelAdmin):\n",
    "    list_display = ('nome', 'cpf', 'idade', 'tipo_sanguineo')\n",
    "    search_fields = ('nome', 'cpf')\n",
    "````\n",
    "\n",
    "Isso permite visualizar, buscar e gerenciar doadores no admin.\n",
    "\n",
    "## 4. Acessando o Painel Admin\n",
    "\n",
    "Inicie o servidor:\n",
    "\n",
    "```bash\n",
    "python manage.py runserver\n",
    "```\n",
    "\n",
    "Acesse [http://127.0.0.1:8000/admin/](http://127.0.0.1:8000/admin/) e faça login com o superusuário criado.\n",
    "\n",
    "## 5. Incluindo e Gerenciando Doadores\n",
    "\n",
    "- No painel admin, clique em **Doadores**.\n",
    "- Você pode adicionar, editar, buscar e excluir doadores facilmente pela interface.\n",
    "\n",
    "## Conceitos Importantes\n",
    "\n",
    "- **Admin Site:** Interface pronta para gerenciar dados dos modelos.\n",
    "- **Permissões:** Usuários comuns podem ter permissões limitadas (adicione pelo admin).\n",
    "- **Customização:** Você pode customizar a exibição dos modelos usando classes `ModelAdmin` (como mostrado acima).\n",
    "- **Segurança:** Nunca use o superusuário em produção para tarefas comuns.\n",
    "\n",
    "Pronto! Agora você pode gerenciar a tabela **Doador** pelo Django Admin.\n",
    "\n",
    "---"
   ]
  },
  {
   "cell_type": "markdown",
   "metadata": {},
   "source": [
    "## Conclusão\n",
    "\n",
    "Consulte a [documentação oficial do Django Admin](https://docs.djangoproject.com/pt-br/5.2/ref/contrib/admin/) para mais opções de customização."
   ]
  }
 ],
 "metadata": {
  "kernelspec": {
   "display_name": "Python 3",
   "language": "python",
   "name": "python3"
  },
  "language_info": {
   "codemirror_mode": {
    "name": "ipython",
    "version": 3
   },
   "file_extension": ".py",
   "mimetype": "text/x-python",
   "name": "python",
   "nbconvert_exporter": "python",
   "pygments_lexer": "ipython3",
   "version": "3.8.10"
  }
 },
 "nbformat": 4,
 "nbformat_minor": 5
}
