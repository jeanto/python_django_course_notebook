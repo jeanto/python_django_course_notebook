{
 "cells": [
  {
   "cell_type": "markdown",
   "id": "ed4b1fac",
   "metadata": {},
   "source": [
    "# Introdução ao Django: Python \n",
    "\n",
    "[Aprenda Python com Jupyter](https://github.com/jeanto/python_django_course_notebook) by [Jean Nunes](https://jeanto.github.io/jeannunes)   \n",
    "Code license: [GNU-GPL v3](https://www.gnu.org/licenses/gpl-3.0.en.html)\n",
    "\n",
    "---"
   ]
  },
  {
   "cell_type": "markdown",
   "id": "c249dd21",
   "metadata": {},
   "source": [
    "# Associação entre `classes`"
   ]
  },
  {
   "cell_type": "markdown",
   "id": "9fdaf4c0",
   "metadata": {},
   "source": [
    "Para implementar a funcionalidade de intenção de doação e seleção de órgãos, vamos precisar criar associação entre classes (Doador e IntencaoDeDoar):\n",
    "\n",
    "### **1. Atualizar `models.py`** \n",
    "\n",
    "Criaremos o modelo `Orgao` para armazenar os nomes dos órgãos e o modelo `IntencaoDeDoar` para incluir um relacionamento _Many-to-Many_ com `Orgao` e um campo booleano para indicar a intenção de doar agora.\n",
    "\n",
    "```python\n",
    "# arquivo models.py\n",
    "\n",
    "from django.db import models\n",
    "class Orgao(models.Model):\n",
    "    \"\"\"\n",
    "    Modelo para representar os tipos de órgãos que podem ser doados.\n",
    "    \"\"\"\n",
    "    nome = models.CharField(max_length=100, unique=True)\n",
    "\n",
    "    class Meta:\n",
    "        verbose_name = \"Órgão\"\n",
    "        verbose_name_plural = \"Órgãos\"\n",
    "\n",
    "    def __str__(self):\n",
    "        return self.nome\n",
    "```"
   ]
  },
  {
   "cell_type": "markdown",
   "id": "6eac1ff8",
   "metadata": {},
   "source": [
    "**Model `Orgao`:**\n",
    "\n",
    "- Um modelo simples com um `CharField` nome para armazenar o nome do órgão (ex: \"Coração\", \"Rins\"). `unique=True` garante que não haverá órgãos duplicados.\n",
    "\n",
    "```python\n",
    "# arquivo models.py\n",
    "\n",
    "class IntencaoDeDoar(models.Model):\n",
    "    doador = models.OneToOneField(\n",
    "        Doador, \n",
    "        on_delete=models.CASCADE, \n",
    "        related_name='intencao_doar'\n",
    "    ) # OneToOneField para garantir 1 intenção por doador\n",
    "\n",
    "    data_intencao = models.DateField(auto_now_add=True) # Data da criação da intenção\n",
    "    status = models.CharField(max_length=50, default='ativa') # Ex: 'ativa', 'inativa', 'concluida'\n",
    "    \n",
    "    # Novo campo para indicar se o doador tem intenção de doar agora\n",
    "    doar_agora = models.BooleanField(default=False)\n",
    "    \n",
    "    # Novo campo para armazenar os órgãos que o doador deseja doar\n",
    "    orgaos = models.ManyToManyField(Orgao, blank=True) # blank=True permite que não haja órgãos selecionados\n",
    "\n",
    "    class Meta:\n",
    "        verbose_name = \"Intenção de Doar\"\n",
    "        verbose_name_plural = \"Intenções de Doar\"\n",
    "\n",
    "    def __str__(self):\n",
    "        return f\"Intenção de {self.doador.nome} - Status: {self.status}\"\n",
    "```"
   ]
  },
  {
   "cell_type": "markdown",
   "id": "30d3fe1d",
   "metadata": {},
   "source": [
    "**Model `IntencaoDeDoar`**\n",
    "\n",
    "- `doador = models.OneToOneField(Doador, on_delete=models.CASCADE, related_name='intencao_doar')`: `OneToOneField` garante que cada `Doador` tenha no máximo uma `IntencaoDeDoar` associada.\n",
    "\n",
    "- `data_intencao = models.DateField(auto_now_add=True)`: A data da intenção será preenchida automaticamente na criação.\n",
    "\n",
    "- `status = models.CharField(max_length=50, default='ativa')`: Mantido para controle de status.\n",
    "\n",
    "- `doar_agora = models.BooleanField(default=False)`: Campo para a pergunta \"intenção de doar agora\".\n",
    "\n",
    "- `orgaos = models.ManyToManyField(Orgao, blank=True)`: Novo campo para armazenar os órgãos que o doador deseja doar. `blank=True` permite que um doador expresse intenção sem especificar órgãos imediatamente, ou que não queira doar nenhum órgão específico."
   ]
  },
  {
   "cell_type": "markdown",
   "id": "fe3b8dfc",
   "metadata": {},
   "source": [
    "Com os modelos definidos, você precisará executar as migrações do Django para criar a nova tabela `Orgao` e atualizar a tabela `IntencaoDeDoar` no seu banco de dados.\n",
    "\n",
    "```bash\n",
    "python manage.py makemigrations\n",
    "python manage.py migrate\n",
    "```"
   ]
  },
  {
   "cell_type": "markdown",
   "id": "1f9e8199",
   "metadata": {},
   "source": [
    "### **2. Atualizar `forms.py`**\n",
    "\n",
    "Para popular a tabela `Orgao` com a lista de órgãos, a maneira mais limpa é criar um *\"management command\"* no Django.\n",
    "\n",
    "#### 1. Crie o arquivo do comando\n",
    "\n",
    "- Dentro de `doacoes/management/commands/`, crie um arquivo chamado `populate_orgaos.py`\n",
    "\n",
    "#### 2. Adicione o código ao `populate_orgaos.py`"
   ]
  },
  {
   "cell_type": "code",
   "execution_count": null,
   "id": "64d416ef",
   "metadata": {},
   "outputs": [],
   "source": [
    "from django.core.management.base import BaseCommand\n",
    "from sndot.models import Orgao # Importe o seu model Orgao\n",
    "\n",
    "class Command(BaseCommand):\n",
    "    help = 'Popula a tabela Orgao com uma lista predefinida de órgãos.'\n",
    "\n",
    "    def handle(self, *args, **kwargs):\n",
    "        orgaos_lista = [\n",
    "            \"Coração\", \"Rins\", \"Fígado\", \"Pâncreas\", \"Pulmões\", \"Intestino\",\n",
    "            \"Córneas\", \"Pele\", \"Ossos\", \"Válvulas cardíacas\", \"Cartilagem\",\n",
    "            \"Medula Óssea\", \"Tendões\", \"Vasos Sanguíneos\", \"Sangue de Cordão Umbilical\",\n",
    "            \"Sangue Universal\"\n",
    "        ]\n",
    "\n",
    "        self.stdout.write(self.style.SUCCESS('Iniciando a população da tabela Orgao...'))\n",
    "\n",
    "        for nome_orgao in orgaos_lista:\n",
    "            # get_or_create tenta obter o objeto; se não existe, cria.\n",
    "            orgao, created = Orgao.objects.get_or_create(nome=nome_orgao)\n",
    "            if created:\n",
    "                self.stdout.write(self.style.SUCCESS(f\"Órgão '{orgao.nome}' criado com sucesso.\"))\n",
    "            else:\n",
    "                self.stdout.write(self.style.WARNING(f\"Órgão '{orgao.nome}' já existe.\"))\n",
    "\n",
    "        self.stdout.write(self.style.SUCCESS('População da tabela Orgao concluída.'))\n"
   ]
  },
  {
   "cell_type": "markdown",
   "id": "022499ae",
   "metadata": {},
   "source": [
    "#### 3. Executar o comando\n",
    "\n",
    "Abra seu terminal na raiz do projeto Django (onde está o `manage.py`) e execute:\n",
    "\n",
    "```bash\n",
    "python manage.py populate_orgaos\n",
    "```\n",
    "\n",
    "Isso preencherá sua tabela `Orgao` com os dados."
   ]
  },
  {
   "cell_type": "markdown",
   "id": "191c4d09",
   "metadata": {},
   "source": [
    "#### 4. Atualizar `forms.py`\n",
    "\n",
    "Vamos modificar o `CadastrarDoadorForm` no seu `forms.py` para incluir os campos de intenção de doação e seleção de órgãos."
   ]
  },
  {
   "cell_type": "markdown",
   "id": "bd730d51",
   "metadata": {},
   "source": [
    "\n",
    "- Importação de Orgao: `from .models import Doador, Orgao`\n",
    "\n",
    "- Novos Campos no Formulário:\n",
    "\n",
    "```python\n",
    "    doar_agora = forms.BooleanField(label=\"Tenho intenção de doar agora\", required=False)\n",
    "    orgaos_desejados = forms.ModelMultipleChoiceField(\n",
    "        queryset=Orgao.objects.all(),\n",
    "        widget=forms.CheckboxSelectMultiple,\n",
    "        required=False,\n",
    "        label=\"Quais órgãos deseja doar?\"\n",
    "    )\n",
    "```"
   ]
  },
  {
   "cell_type": "markdown",
   "id": "152b97d7",
   "metadata": {},
   "source": [
    "\n",
    "- `doar_agora = forms.BooleanField(label=\"Tenho intenção de doar agora\", required=False):` Um checkbox simples.\n",
    "    \n",
    "- `orgaos_desejados = forms.ModelMultipleChoiceField(...):`\n",
    "\n",
    "    - `queryset=Orgao.objects.all()`: Ele buscará todas as opções de órgãos do seu modelo `Orgao` (por isso a importância de popular a tabela primeiro).\n",
    "        \n",
    "    - `widget=forms.CheckboxSelectMultiple`: Renderiza as opções como uma lista de checkboxes, permitindo múltiplas seleções.\n",
    "\n",
    "    - `required=False`: Por padrão, não é obrigatório, mas a validação no `clean` o tornará obrigatório se `doar_agora` for `True`.\n",
    "\n"
   ]
  },
  {
   "cell_type": "markdown",
   "id": "3cd6e54b",
   "metadata": {},
   "source": [
    "- Inicialização no `__init__`: A lógica foi adicionada para preencher os valores iniciais de `doar_agora` e `orgaos_desejados` se o formulário estiver sendo usado para editar um doador existente que já possui uma `IntencaoDeDoar` associada.\n",
    "\n",
    "```python\n",
    "        # Popula os campos de Intenção de Doar se uma instância de Doador for passada\n",
    "        # (usado na edição de doador)\n",
    "        doador_instance = kwargs.get('instance')\n",
    "        if doador_instance and doador_instance.pk:\n",
    "            try:\n",
    "                intencao = doador_instance.intencao_doar\n",
    "                initial_doar_agora = intencao.doar_agora\n",
    "                initial_orgaos_desejados = intencao.orgaos.all()\n",
    "                kwargs['initial'] = kwargs.get('initial', {})\n",
    "                kwargs['initial']['doar_agora'] = initial_doar_agora\n",
    "                kwargs['initial']['orgaos_desejados'] = initial_orgaos_desejados\n",
    "            except doador_instance._meta.model.intencao_doar.RelatedObjectDoesNotExist:\n",
    "                # Nenhuma intenção de doar existente para este doador\n",
    "                pass\n",
    "```\n",
    "\n",
    "- Validação no `clean()`: Uma nova regra de validação foi adicionada: se `doar_agora` for marcado (`True`), então `orgaos_desejados` se torna obrigatório.\n",
    "\n",
    "```python\n",
    "    # Validação condicional para orgaos_desejados\n",
    "    if doar_agora and not orgaos_desejados:\n",
    "        self.add_error('orgaos_desejados', 'Por favor, selecione pelo menos um órgão se a intenção de doar agora estiver marcada.')\n",
    "\n",
    "```"
   ]
  },
  {
   "cell_type": "markdown",
   "id": "a36f14be",
   "metadata": {},
   "source": [
    "### **3. Atualizar `views.py`**\n",
    "\n",
    "Ajustaremos a _view_ `cadastrar_doador` para processar esses novos campos e criar/atualizar a instância de `IntencaoDeDoar` após o cadastro do doador."
   ]
  },
  {
   "cell_type": "markdown",
   "id": "c973c271",
   "metadata": {},
   "source": [
    "### **4. Atualizar `cadastrar_doador.html`**\n",
    "\n",
    "Adicionaremos os novos campos ao formulário HTML e a lógica para exibir/ocultar a lista de órgãos com base na seleção da intenção de doar."
   ]
  }
 ],
 "metadata": {
  "language_info": {
   "name": "python"
  }
 },
 "nbformat": 4,
 "nbformat_minor": 5
}
